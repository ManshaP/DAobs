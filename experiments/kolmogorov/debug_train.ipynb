{
 "cells": [
  {
   "cell_type": "code",
   "execution_count": 1,
   "metadata": {},
   "outputs": [],
   "source": [
    "#!/usr/bin/env python\n",
    "\n",
    "import wandb\n",
    "\n",
    "from dawgz import job, schedule\n",
    "from typing import *\n",
    "\n",
    "from sda.mcs import *\n",
    "from sda.score import *\n",
    "from sda.utils import *\n",
    "\n",
    "from utils import *"
   ]
  },
  {
   "cell_type": "code",
   "execution_count": 2,
   "metadata": {},
   "outputs": [],
   "source": [
    "\n",
    "CONFIG = {\n",
    "    # Architecture\n",
    "    'window': 5,\n",
    "    'embedding': 32,\n",
    "    'hidden_channels': (4, 128, 256),\n",
    "    'hidden_blocks': (3, 3, 3),\n",
    "    'kernel_size': 3,\n",
    "    'activation': 'SiLU',\n",
    "    # Training\n",
    "    'epochs': 1,\n",
    "    'batch_size': 5,\n",
    "    'optimizer': 'AdamW',\n",
    "    'learning_rate': 2e-4,\n",
    "    'weight_decay': 1e-3,\n",
    "    'scheduler': 'linear',\n",
    "    'size':256,\n",
    "}\n"
   ]
  },
  {
   "cell_type": "code",
   "execution_count": 3,
   "metadata": {},
   "outputs": [
    {
     "name": "stdout",
     "output_type": "stream",
     "text": [
      "/lustre/fsw/portfolios/nvr/projects/nvr_earth2_e2/sda/kolmogorov\n"
     ]
    }
   ],
   "source": [
    "\n",
    "\n",
    "\n",
    "# @job(array=3, cpus=4, gpus=1, ram='64GB', time='4:00:00', account='nvr_earth2_e2', partition='grizzly')\n",
    "# def train(i: int):\n",
    "    # run = wandb.init(project='sda-kolmogorov', config=CONFIG)\n",
    "# runpath = PATH / f'runs/{run.name}_{run.id}'\n",
    "# runpath.mkdir(parents=True, exist_ok=True)\n",
    "print(PATH)\n",
    "# save_config(CONFIG, runpath)\n",
    "\n",
    "# Network\n",
    "window = CONFIG['window']\n",
    "score = make_score(**CONFIG)\n",
    "sde = VPSDE(score.kernel, shape=(window * 2,256,256)).cuda()\n",
    "\n"
   ]
  },
  {
   "cell_type": "code",
   "execution_count": 4,
   "metadata": {},
   "outputs": [
    {
     "data": {
      "text/plain": [
       "(10, 256, 256)"
      ]
     },
     "execution_count": 4,
     "metadata": {},
     "output_type": "execute_result"
    }
   ],
   "source": [
    "sde.shape"
   ]
  },
  {
   "cell_type": "code",
   "execution_count": 5,
   "metadata": {},
   "outputs": [
    {
     "data": {
      "text/plain": [
       "PosixPath('/lustre/fsw/portfolios/nvr/projects/nvr_earth2_e2/sda/kolmogorov')"
      ]
     },
     "execution_count": 5,
     "metadata": {},
     "output_type": "execute_result"
    }
   ],
   "source": [
    "PATH"
   ]
  },
  {
   "cell_type": "code",
   "execution_count": 9,
   "metadata": {},
   "outputs": [],
   "source": [
    "# # Data\n",
    "\n",
    "trainset = TrajectoryDataset(PATH / 'data/train.h5', window=window, flatten=True)\n",
    "validset = TrajectoryDataset(PATH / 'data/valid.h5', window=window, flatten=True)\n"
   ]
  },
  {
   "cell_type": "code",
   "execution_count": 7,
   "metadata": {},
   "outputs": [],
   "source": [
    "\n",
    "trainset = TrajectoryDataset( 'data/train.h5', window=window, flatten=True)\n",
    "validset = TrajectoryDataset('data/valid.h5', window=window, flatten=True)\n"
   ]
  },
  {
   "cell_type": "code",
   "execution_count": 10,
   "metadata": {},
   "outputs": [
    {
     "data": {
      "text/plain": [
       "torch.Size([10, 256, 256])"
      ]
     },
     "execution_count": 10,
     "metadata": {},
     "output_type": "execute_result"
    }
   ],
   "source": [
    "trainset.__getitem__(7)[0].shape"
   ]
  },
  {
   "cell_type": "code",
   "execution_count": 11,
   "metadata": {},
   "outputs": [],
   "source": [
    "\n",
    "generator = loop(\n",
    "    sde,\n",
    "    trainset,\n",
    "    validset,\n",
    "    device='cuda',\n",
    "    **CONFIG,\n",
    ")"
   ]
  },
  {
   "cell_type": "code",
   "execution_count": 12,
   "metadata": {},
   "outputs": [
    {
     "name": "stderr",
     "output_type": "stream",
     "text": [
      "100%|████████████████████████| 1/1 [00:13<00:00, 13.72s/it, lr=0.0002, lt=1.32, lv=1.12]"
     ]
    },
    {
     "name": "stdout",
     "output_type": "stream",
     "text": [
      "{'loss_train': 1.3187837600708008, 'loss_valid': 1.1173171997070312, 'lr': 0.0002}\n"
     ]
    },
    {
     "name": "stderr",
     "output_type": "stream",
     "text": [
      "\n"
     ]
    }
   ],
   "source": [
    "\n",
    "for loss_train, loss_valid, lr in generator:\n",
    "    print({\n",
    "        'loss_train': loss_train,\n",
    "        'loss_valid': loss_valid,\n",
    "        'lr': lr,\n",
    "    })\n"
   ]
  },
  {
   "cell_type": "code",
   "execution_count": null,
   "metadata": {},
   "outputs": [],
   "source": []
  }
 ],
 "metadata": {
  "kernelspec": {
   "display_name": "Python 3 (ipykernel)",
   "language": "python",
   "name": "python3"
  },
  "language_info": {
   "codemirror_mode": {
    "name": "ipython",
    "version": 3
   },
   "file_extension": ".py",
   "mimetype": "text/x-python",
   "name": "python",
   "nbconvert_exporter": "python",
   "pygments_lexer": "ipython3",
   "version": "3.9.16"
  }
 },
 "nbformat": 4,
 "nbformat_minor": 4
}
