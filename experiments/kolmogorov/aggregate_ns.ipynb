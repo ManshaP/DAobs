{
 "cells": [
  {
   "cell_type": "code",
   "execution_count": 1,
   "metadata": {},
   "outputs": [],
   "source": [
    "import h5py\n",
    "import numpy as np\n",
    "import random\n",
    "from typing import *\n",
    "from tqdm import tqdm\n",
    "from sda.mcs import KolmogorovFlow\n",
    "import glob\n",
    "from utils import *\n"
   ]
  },
  {
   "cell_type": "code",
   "execution_count": 2,
   "metadata": {},
   "outputs": [],
   "source": [
    "n_inits = 100"
   ]
  },
  {
   "cell_type": "code",
   "execution_count": 3,
   "metadata": {},
   "outputs": [],
   "source": [
    "# def aggregate():\n",
    "#     files = sorted(PATH.glob('data/x_*.npy'))\n",
    "#     length = len(files)\n",
    "\n",
    "#     i = int(0.8 * length)\n",
    "#     j = int(0.9 * length)\n",
    "\n",
    "#     splits = {\n",
    "#         'train': files[:i],\n",
    "#         'valid': files[i:j],\n",
    "#         'test': files[j:],\n",
    "#     }\n",
    "\n",
    "#     for name, files in splits.items():\n",
    "#         with h5py.File(PATH / f'data/{name}.h5', mode='w') as f:\n",
    "#             f.create_dataset(\n",
    "#                 'x',\n",
    "#                 shape=(len(files), 64, 2, 64, 64), #time steps, channels, lat, lon\n",
    "#                 dtype=np.float32,\n",
    "#             )\n",
    "\n",
    "#             for i, x in enumerate(map(np.load, files)):\n",
    "#                 f['x'][i] = KolmogorovFlow.coarsen(torch.from_numpy(x), 4)\n",
    "scratch = '/lustre/fsw/portfolios/nvr/projects/nvr_earth2_e2/sda/kolmogorov/data/'\n",
    "files = sorted(glob.glob(scratch + 'uv*.npy'))\n"
   ]
  },
  {
   "cell_type": "code",
   "execution_count": 4,
   "metadata": {},
   "outputs": [],
   "source": [
    "i = int(0.8 * n_inits)\n",
    "j = int(0.9 * n_inits)"
   ]
  },
  {
   "cell_type": "code",
   "execution_count": null,
   "metadata": {},
   "outputs": [],
   "source": [
    "       'train': files[:i],\n",
    "        'valid': files[i:j],\n",
    "        'test': files[j:],"
   ]
  },
  {
   "cell_type": "code",
   "execution_count": 5,
   "metadata": {},
   "outputs": [],
   "source": [
    "splits = {\n",
    "    'train': (0, i),\n",
    "    'valid': (i,j),\n",
    "    'test': (j,n_inits)\n",
    "}"
   ]
  },
  {
   "cell_type": "code",
   "execution_count": 6,
   "metadata": {},
   "outputs": [
    {
     "name": "stderr",
     "output_type": "stream",
     "text": [
      "  0%|                                                            | 0/66 [00:00<?, ?it/s]"
     ]
    },
    {
     "name": "stderr",
     "output_type": "stream",
     "text": [
      " 97%|█████████████████████████████████████████████████▍ | 64/66 [00:12<00:00,  5.00it/s]\n"
     ]
    },
    {
     "ename": "IndexError",
     "evalue": "Index (64) out of range for (0-63)",
     "output_type": "error",
     "traceback": [
      "\u001b[0;31m---------------------------------------------------------------------------\u001b[0m",
      "\u001b[0;31mIndexError\u001b[0m                                Traceback (most recent call last)",
      "Cell \u001b[0;32mIn[6], line 9\u001b[0m\n\u001b[1;32m      2\u001b[0m f\u001b[38;5;241m.\u001b[39mcreate_dataset(\n\u001b[1;32m      3\u001b[0m     \u001b[38;5;124m'\u001b[39m\u001b[38;5;124mx\u001b[39m\u001b[38;5;124m'\u001b[39m,\n\u001b[1;32m      4\u001b[0m     shape\u001b[38;5;241m=\u001b[39m(n_inits, \u001b[38;5;241m64\u001b[39m, \u001b[38;5;241m2\u001b[39m, \u001b[38;5;241m256\u001b[39m, \u001b[38;5;241m256\u001b[39m), \u001b[38;5;66;03m#time steps, channels, lat, lon\u001b[39;00m\n\u001b[1;32m      5\u001b[0m     dtype\u001b[38;5;241m=\u001b[39mnp\u001b[38;5;241m.\u001b[39mfloat32,\n\u001b[1;32m      6\u001b[0m )\n\u001b[1;32m      8\u001b[0m \u001b[38;5;28;01mfor\u001b[39;00m i, x \u001b[38;5;129;01min\u001b[39;00m \u001b[38;5;28menumerate\u001b[39m(\u001b[38;5;28mmap\u001b[39m(np\u001b[38;5;241m.\u001b[39mload, tqdm(files, ncols\u001b[38;5;241m=\u001b[39m\u001b[38;5;241m88\u001b[39m))):\n\u001b[0;32m----> 9\u001b[0m     \u001b[43mf\u001b[49m\u001b[43m[\u001b[49m\u001b[38;5;124;43m'\u001b[39;49m\u001b[38;5;124;43mx\u001b[39;49m\u001b[38;5;124;43m'\u001b[39;49m\u001b[43m]\u001b[49m\u001b[43m[\u001b[49m\u001b[43m:\u001b[49m\u001b[43m,\u001b[49m\u001b[43mi\u001b[49m\u001b[43m,\u001b[49m\u001b[43m:\u001b[49m\u001b[43m,\u001b[49m\u001b[43m:\u001b[49m\u001b[43m,\u001b[49m\u001b[43m:\u001b[49m\u001b[43m]\u001b[49m \u001b[38;5;241m=\u001b[39m x[:,\u001b[38;5;241m0\u001b[39m,:,:,:]\n",
      "File \u001b[0;32mh5py/_objects.pyx:54\u001b[0m, in \u001b[0;36mh5py._objects.with_phil.wrapper\u001b[0;34m()\u001b[0m\n",
      "File \u001b[0;32mh5py/_objects.pyx:55\u001b[0m, in \u001b[0;36mh5py._objects.with_phil.wrapper\u001b[0;34m()\u001b[0m\n",
      "File \u001b[0;32m~/miniconda3/envs/sda/lib/python3.9/site-packages/h5py/_hl/dataset.py:947\u001b[0m, in \u001b[0;36mDataset.__setitem__\u001b[0;34m(self, args, val)\u001b[0m\n\u001b[1;32m    944\u001b[0m     mtype \u001b[38;5;241m=\u001b[39m \u001b[38;5;28;01mNone\u001b[39;00m\n\u001b[1;32m    946\u001b[0m \u001b[38;5;66;03m# Perform the dataspace selection\u001b[39;00m\n\u001b[0;32m--> 947\u001b[0m selection \u001b[38;5;241m=\u001b[39m \u001b[43msel\u001b[49m\u001b[38;5;241;43m.\u001b[39;49m\u001b[43mselect\u001b[49m\u001b[43m(\u001b[49m\u001b[38;5;28;43mself\u001b[39;49m\u001b[38;5;241;43m.\u001b[39;49m\u001b[43mshape\u001b[49m\u001b[43m,\u001b[49m\u001b[43m \u001b[49m\u001b[43margs\u001b[49m\u001b[43m,\u001b[49m\u001b[43m \u001b[49m\u001b[43mdataset\u001b[49m\u001b[38;5;241;43m=\u001b[39;49m\u001b[38;5;28;43mself\u001b[39;49m\u001b[43m)\u001b[49m\n\u001b[1;32m    949\u001b[0m \u001b[38;5;28;01mif\u001b[39;00m selection\u001b[38;5;241m.\u001b[39mnselect \u001b[38;5;241m==\u001b[39m \u001b[38;5;241m0\u001b[39m:\n\u001b[1;32m    950\u001b[0m     \u001b[38;5;28;01mreturn\u001b[39;00m\n",
      "File \u001b[0;32m~/miniconda3/envs/sda/lib/python3.9/site-packages/h5py/_hl/selections.py:82\u001b[0m, in \u001b[0;36mselect\u001b[0;34m(shape, args, dataset)\u001b[0m\n\u001b[1;32m     79\u001b[0m     space \u001b[38;5;241m=\u001b[39m h5s\u001b[38;5;241m.\u001b[39mcreate_simple(shape)\n\u001b[1;32m     80\u001b[0m     selector \u001b[38;5;241m=\u001b[39m _selector\u001b[38;5;241m.\u001b[39mSelector(space)\n\u001b[0;32m---> 82\u001b[0m \u001b[38;5;28;01mreturn\u001b[39;00m \u001b[43mselector\u001b[49m\u001b[38;5;241;43m.\u001b[39;49m\u001b[43mmake_selection\u001b[49m\u001b[43m(\u001b[49m\u001b[43margs\u001b[49m\u001b[43m)\u001b[49m\n",
      "File \u001b[0;32mh5py/_selector.pyx:276\u001b[0m, in \u001b[0;36mh5py._selector.Selector.make_selection\u001b[0;34m()\u001b[0m\n",
      "File \u001b[0;32mh5py/_selector.pyx:151\u001b[0m, in \u001b[0;36mh5py._selector.Selector.apply_args\u001b[0;34m()\u001b[0m\n",
      "\u001b[0;31mIndexError\u001b[0m: Index (64) out of range for (0-63)"
     ]
    }
   ],
   "source": [
    "with h5py.File(scratch+ 'all.h5', mode='w') as f:\n",
    "            f.create_dataset(\n",
    "                'x',\n",
    "                shape=(n_inits, 64, 2, 256, 256), #time steps, channels, lat, lon\n",
    "                dtype=np.float32,\n",
    "            )\n",
    "\n",
    "            for i, x in enumerate(map(np.load, tqdm(files, ncols=88))):\n",
    "                f['x'][:,i,:,:,:] = x[:,0,:,:,:]"
   ]
  },
  {
   "cell_type": "code",
   "execution_count": 38,
   "metadata": {},
   "outputs": [
    {
     "data": {
      "text/plain": [
       "dict_items([('train', (0, 80)), ('valid', (80, 90)), ('test', (90, 100))])"
      ]
     },
     "execution_count": 38,
     "metadata": {},
     "output_type": "execute_result"
    }
   ],
   "source": [
    "splits.items()"
   ]
  },
  {
   "cell_type": "code",
   "execution_count": 7,
   "metadata": {},
   "outputs": [],
   "source": [
    "\n",
    "with h5py.File(scratch+ 'all.h5', mode='r') as f:\n",
    "     for name, ind in splits.items():\n",
    "          with h5py.File(scratch + f'{name}.h5', mode='w') as g:\n",
    "               g.create_dataset(\n",
    "                    'x',\n",
    "                    shape=(ind[1]-ind[0], 64, 2, 256, 256),\n",
    "                    dtype=np.float32)\n",
    "               g['x'][:] = f['x'][ind[0]:ind[1]]\n",
    "\n",
    "          "
   ]
  },
  {
   "cell_type": "code",
   "execution_count": 12,
   "metadata": {},
   "outputs": [
    {
     "name": "stdout",
     "output_type": "stream",
     "text": [
      "(64, 2, 256, 256)\n"
     ]
    }
   ],
   "source": [
    "with h5py.File(scratch+ '/train.h5', mode='r') as f:\n",
    "    print(f['x'][0].shape)\n"
   ]
  },
  {
   "cell_type": "code",
   "execution_count": null,
   "metadata": {},
   "outputs": [],
   "source": []
  },
  {
   "cell_type": "code",
   "execution_count": null,
   "metadata": {},
   "outputs": [],
   "source": []
  }
 ],
 "metadata": {
  "kernelspec": {
   "display_name": "sda",
   "language": "python",
   "name": "python3"
  },
  "language_info": {
   "codemirror_mode": {
    "name": "ipython",
    "version": 3
   },
   "file_extension": ".py",
   "mimetype": "text/x-python",
   "name": "python",
   "nbconvert_exporter": "python",
   "pygments_lexer": "ipython3",
   "version": "3.9.16"
  }
 },
 "nbformat": 4,
 "nbformat_minor": 2
}
